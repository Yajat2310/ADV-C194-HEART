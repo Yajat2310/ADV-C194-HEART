{
 "cells": [
  {
   "cell_type": "code",
   "execution_count": 166,
   "metadata": {},
   "outputs": [
    {
     "name": "stdout",
     "output_type": "stream",
     "text": [
      "Name : \n",
      "We will be cleaning the big data and make a comparison to show who has a healthier heart smokers OR non smokers, uisng a line graph\n",
      "Also we will be deriviring which age group has the high chances of coronary heart disease in 10 years\n"
     ]
    }
   ],
   "source": [
    "print(\"Name : \")\n",
    "print(\"We will be cleaning the big data and make a comparison to show who has a healthier heart smokers OR non smokers, uisng a line graph\")\n",
    "print(\"Also we will be deriviring which age group has the high chances of coronary heart disease in 10 years\")\n"
   ]
  },
  {
   "cell_type": "markdown",
   "metadata": {},
   "source": [
    "# Task 1 - Plot a line graph to show the difference between heart rate of smokers and non smokers"
   ]
  },
  {
   "cell_type": "code",
   "execution_count": 1,
   "metadata": {},
   "outputs": [],
   "source": [
    "#Import libraries\n",
    "\n",
    "import pandas as pd\n",
    "import numpy as np\n",
    "import matplotlib.pyplot as plt\n",
    "df = pd.read_csv('Data.csv')\n",
    "df\n",
    "\n",
    "non_smokers = df.loc[df['currentSmoker'] == 0]\n",
    "non_smokers\n",
    "\n",
    "group_non_smokers = non_smokers.groupby('age')['heartRate'].mean().reset_index()\n",
    "group_non_smokers\n",
    "\n",
    "smokers = df.loc[df['currentSmoker'] == 1]\n",
    "smokers\n",
    "\n",
    "group_smokers = smokers.groupby('age')['heartRate'].mean().reset_index()\n",
    "group_smokers\n",
    "\n",
    "plt.subplots(figsize = (19, 8))\n",
    "label = group_non_smokers['age']\n",
    "value = group_non_smokers['heartRate']\n",
    "plt.plot(label, value, label = \"Heart Rate of Non Smokers\", linewidth = 3.0)\n",
    "label = group_smokers['age']\n",
    "value = group_smokers['heartRate']\n",
    "plt.plot(label, value, label = \"Heart Rate of Smokers\", linewidth = 3.0)\n",
    "plt.xlabel(\"Age\")\n",
    "plt.xticks(rotation = 'vertical')\n",
    "plt.ylabel(\"Heart Rate\")\n",
    "plt.title(\"Comparision between Smokers' & Non Smokers' Heart Rate\")\n",
    "plt.legend()\n",
    "plt.show()\n",
    "\n"
   ]
  },
  {
   "cell_type": "code",
   "execution_count": 2,
   "metadata": {},
   "outputs": [],
   "source": []
  },
  {
   "cell_type": "code",
   "execution_count": 3,
   "metadata": {},
   "outputs": [],
   "source": [
    "#Group by age column and find average heart rate at different age\n",
    "\n"
   ]
  },
  {
   "cell_type": "code",
   "execution_count": 4,
   "metadata": {},
   "outputs": [],
   "source": [
    "#Filter and make a new dataframe for smokers\n"
   ]
  },
  {
   "cell_type": "code",
   "execution_count": 5,
   "metadata": {},
   "outputs": [],
   "source": [
    "#Group by age column and find average heart rate at different age\n"
   ]
  },
  {
   "cell_type": "code",
   "execution_count": 6,
   "metadata": {},
   "outputs": [],
   "source": [
    "#Plot a line graph to show the heart rate of smokers vs non smokers\n"
   ]
  },
  {
   "cell_type": "markdown",
   "metadata": {},
   "source": [
    "Conslusion - "
   ]
  },
  {
   "cell_type": "markdown",
   "metadata": {},
   "source": [
    "# Task 2 - Which age group have high chances of having coronary heart disease in 10 years"
   ]
  },
  {
   "cell_type": "code",
   "execution_count": 1,
   "metadata": {},
   "outputs": [
    {
     "ename": "SyntaxError",
     "evalue": "invalid syntax (3734076430.py, line 21)",
     "output_type": "error",
     "traceback": [
      "\u001b[1;36m  File \u001b[1;32m\"C:\\Users\\LENOVO\\AppData\\Local\\Temp\\ipykernel_4120\\3734076430.py\"\u001b[1;36m, line \u001b[1;32m21\u001b[0m\n\u001b[1;33m    Conslusion - We can conclude that people have highest chances of CHD in next 10 years from 50 to 65.\u001b[0m\n\u001b[1;37m                    ^\u001b[0m\n\u001b[1;31mSyntaxError\u001b[0m\u001b[1;31m:\u001b[0m invalid syntax\n"
     ]
    }
   ],
   "source": [
    "coronary_heart_disease = df.loc[df['TenYearCHD'] == 1]\n",
    "coronary_heart_disease\n",
    "\n",
    "group_age = coronary_heart_disease.groupby('age')['TenYearCHD'].count().reset_index()\n",
    "group_age\n",
    "\n",
    "label = group_age['age']\n",
    "value = group_age['TenYearCHD']\n",
    "plt.figure(figsize = (12, 8))\n",
    "plt.xticks(rotation = 'vertical')\n",
    "rgb = np.random.rand(3)\n",
    "print(rgb)\n",
    "plt.scatter(label, value, c = [rgb], label = \"Chances of CHD in next 10 Years\", alpha = 0.5, s = 650)\n",
    "plt.xlabel(\"Age\")\n",
    "plt.xticks(rotation = 'vertical')\n",
    "plt.ylabel(\"Chances of CHD in next 10 Years\")\n",
    "plt.title(\"Chances of CHD in next 10 Years as per Age\")\n",
    "plt.legend()\n",
    "plt.show()\n",
    "\n",
    "Conslusion - We can conclude that people have highest chances of CHD in next 10 years from 50 to 65."
   ]
  },
  {
   "cell_type": "code",
   "execution_count": 2,
   "metadata": {},
   "outputs": [],
   "source": []
  },
  {
   "cell_type": "code",
   "execution_count": 9,
   "metadata": {},
   "outputs": [],
   "source": []
  },
  {
   "cell_type": "markdown",
   "metadata": {},
   "source": [
    "Conslusion - "
   ]
  },
  {
   "cell_type": "code",
   "execution_count": null,
   "metadata": {},
   "outputs": [],
   "source": []
  }
 ],
 "metadata": {
  "kernelspec": {
   "display_name": "Python 3 (ipykernel)",
   "language": "python",
   "name": "python3"
  },
  "language_info": {
   "codemirror_mode": {
    "name": "ipython",
    "version": 3
   },
   "file_extension": ".py",
   "mimetype": "text/x-python",
   "name": "python",
   "nbconvert_exporter": "python",
   "pygments_lexer": "ipython3",
   "version": "3.9.13"
  }
 },
 "nbformat": 4,
 "nbformat_minor": 4
}
